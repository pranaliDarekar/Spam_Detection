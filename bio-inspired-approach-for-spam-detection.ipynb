{
 "cells": [
  {
   "cell_type": "code",
   "execution_count": 1,
   "metadata": {
    "_cell_guid": "b1076dfc-b9ad-4769-8c92-a6c4dae69d19",
    "_uuid": "8f2839f25d086af736a60e9eeb907d3b93b6e0e5",
    "execution": {
     "iopub.execute_input": "2021-03-23T06:45:29.325369Z",
     "iopub.status.busy": "2021-03-23T06:45:29.324657Z",
     "iopub.status.idle": "2021-03-23T06:45:29.336844Z",
     "shell.execute_reply": "2021-03-23T06:45:29.337457Z"
    },
    "papermill": {
     "duration": 0.029654,
     "end_time": "2021-03-23T06:45:29.337813",
     "exception": false,
     "start_time": "2021-03-23T06:45:29.308159",
     "status": "completed"
    },
    "tags": []
   },
   "outputs": [
    {
     "name": "stdout",
     "output_type": "stream",
     "text": [
      "/kaggle/input/profile-data/dump.csv\n"
     ]
    }
   ],
   "source": [
    "# This Python 3 environment comes with many helpful analytics libraries installed\n",
    "# It is defined by the kaggle/python Docker image: https://github.com/kaggle/docker-python\n",
    "# For example, here's several helpful packages to load\n",
    "\n",
    "import numpy as np # linear algebra\n",
    "import pandas as pd # data processing, CSV file I/O (e.g. pd.read_csv)\n",
    "\n",
    "# Input data files are available in the read-only \"../input/\" directory\n",
    "# For example, running this (by clicking run or pressing Shift+Enter) will list all files under the input directory\n",
    "\n",
    "import os\n",
    "for dirname, _, filenames in os.walk('/kaggle/input'):\n",
    "    for filename in filenames:\n",
    "        print(os.path.join(dirname, filename))\n",
    "\n",
    "# You can write up to 20GB to the current directory (/kaggle/working/) that gets preserved as output when you create a version using \"Save & Run All\" \n",
    "# You can also write temporary files to /kaggle/temp/, but they won't be saved outside of the current session"
   ]
  },
  {
   "cell_type": "code",
   "execution_count": 2,
   "metadata": {
    "execution": {
     "iopub.execute_input": "2021-03-23T06:45:29.360888Z",
     "iopub.status.busy": "2021-03-23T06:45:29.359864Z",
     "iopub.status.idle": "2021-03-23T06:45:29.364746Z",
     "shell.execute_reply": "2021-03-23T06:45:29.365208Z"
    },
    "papermill": {
     "duration": 0.017494,
     "end_time": "2021-03-23T06:45:29.365399",
     "exception": false,
     "start_time": "2021-03-23T06:45:29.347905",
     "status": "completed"
    },
    "tags": []
   },
   "outputs": [],
   "source": [
    "import numpy as np\n",
    "import matplotlib.pyplot as plt\n",
    "from matplotlib import animation,cm\n",
    "import random\n",
    "import operator\n",
    "from functools import reduce\n"
   ]
  },
  {
   "cell_type": "code",
   "execution_count": 3,
   "metadata": {
    "execution": {
     "iopub.execute_input": "2021-03-23T06:45:29.387897Z",
     "iopub.status.busy": "2021-03-23T06:45:29.386926Z",
     "iopub.status.idle": "2021-03-23T06:45:29.393509Z",
     "shell.execute_reply": "2021-03-23T06:45:29.392956Z"
    },
    "papermill": {
     "duration": 0.018949,
     "end_time": "2021-03-23T06:45:29.393658",
     "exception": false,
     "start_time": "2021-03-23T06:45:29.374709",
     "status": "completed"
    },
    "tags": []
   },
   "outputs": [],
   "source": [
    "def michalewicz(x):\n",
    "    result = reduce(lambda acc, x: acc + np.sin(x) * np.power(np.sin((0 + 1) * np.power(x, 2) / np.pi), 2 * 10), x, 0.)\n",
    "    return -1.0*result"
   ]
  },
  {
   "cell_type": "code",
   "execution_count": 4,
   "metadata": {
    "execution": {
     "iopub.execute_input": "2021-03-23T06:45:29.419053Z",
     "iopub.status.busy": "2021-03-23T06:45:29.418228Z",
     "iopub.status.idle": "2021-03-23T06:45:29.421012Z",
     "shell.execute_reply": "2021-03-23T06:45:29.420337Z"
    },
    "papermill": {
     "duration": 0.018171,
     "end_time": "2021-03-23T06:45:29.421162",
     "exception": false,
     "start_time": "2021-03-23T06:45:29.402991",
     "status": "completed"
    },
    "tags": []
   },
   "outputs": [],
   "source": [
    "def ackley(x):\n",
    "    return -20*np.exp(-0.2*np.sqrt((x[0]**2+x[1]**2)/2)) - np.exp(0.5*(np.cos(2*np.pi*x[0]) + np.cos(2*np.pi*x[1]))) + 20 + np.exp(1)"
   ]
  },
  {
   "cell_type": "code",
   "execution_count": 5,
   "metadata": {
    "execution": {
     "iopub.execute_input": "2021-03-23T06:45:29.454076Z",
     "iopub.status.busy": "2021-03-23T06:45:29.449123Z",
     "iopub.status.idle": "2021-03-23T06:45:29.456690Z",
     "shell.execute_reply": "2021-03-23T06:45:29.457284Z"
    },
    "papermill": {
     "duration": 0.026767,
     "end_time": "2021-03-23T06:45:29.457470",
     "exception": false,
     "start_time": "2021-03-23T06:45:29.430703",
     "status": "completed"
    },
    "tags": []
   },
   "outputs": [],
   "source": [
    "class Firefly():\n",
    "    def __init__(self, alpha, beta, gamma, upper_boundary, lower_boundary, function_dimension):\n",
    "        self.alpha = alpha\n",
    "        self.beta = beta\n",
    "        self.gamma = gamma\n",
    "        self.__intensity = None\n",
    "        self.lower_boundary = lower_boundary\n",
    "        self.upper_boundary = upper_boundary\n",
    "        self.__position = np.array([random.uniform(self.lower_boundary, self.upper_boundary) for x in range(function_dimension)])\n",
    "    \n",
    "    \n",
    "    @property\n",
    "    def intensity(self):\n",
    "        return self.__intensity\n",
    "\n",
    "        \n",
    "    @property\n",
    "    def position(self):\n",
    "        return self.__position\n",
    "    \n",
    "    @position.setter\n",
    "    def position(self, value):\n",
    "        self.__position = value\n",
    "\n",
    "    def move_towards(self, better_position):\n",
    "        # euclidean distance\n",
    "        distance = np.linalg.norm(self.__position - better_position)\n",
    "        self.__position = self.__position + self.beta*np.exp(-self.gamma*(distance**2)) * (better_position-self.__position) +  self.alpha*(random.uniform(0, 1)-0.5)\n",
    "        self.check_boundaries()\n",
    "\n",
    "    def random_walk(self, area):\n",
    "        self.__position = np.array([random.uniform(cord-area, cord+area) for x, cord in np.ndenumerate(self.__position)])\n",
    "    def update_intensity(self, func):\n",
    "        self.__intensity = -1*func(self.__position)\n",
    "    def check_boundaries(self):\n",
    "        for i, cord in np.ndenumerate(self.__position):\n",
    "            if cord < self.lower_boundary:\n",
    "                self.__position[i] = self.lower_boundary\n",
    "            elif cord > self.upper_boundary:\n",
    "                self.__position[i] = self.upper_boundary\n",
    "            else:\n",
    "                self.__position[i] = cord\n"
   ]
  },
  {
   "cell_type": "code",
   "execution_count": 6,
   "metadata": {
    "execution": {
     "iopub.execute_input": "2021-03-23T06:45:29.480252Z",
     "iopub.status.busy": "2021-03-23T06:45:29.479423Z",
     "iopub.status.idle": "2021-03-23T06:45:29.510537Z",
     "shell.execute_reply": "2021-03-23T06:45:29.509931Z"
    },
    "papermill": {
     "duration": 0.043658,
     "end_time": "2021-03-23T06:45:29.510694",
     "exception": false,
     "start_time": "2021-03-23T06:45:29.467036",
     "status": "completed"
    },
    "tags": []
   },
   "outputs": [],
   "source": [
    "class FireflyProblem():\n",
    "    \n",
    "    def __init__(self, function, firefly_number, upper_boundary=5.12, lower_boundary=-5.12, alpha=2, beta=2, gamma=0.97, iteration_number=50, interval=500, continuous=False):\n",
    "        self.alpha = alpha\n",
    "        self.beta = beta\n",
    "        self.gamma = gamma\n",
    "        self.function_dimension = 2\n",
    "        self.upper_boundary = upper_boundary\n",
    "        self.lower_boundary = lower_boundary\n",
    "        self.iteration_number = iteration_number\n",
    "        self.fireflies = [Firefly(self.alpha,self.beta,self.gamma,self.upper_boundary,self.lower_boundary, self.function_dimension) for x in range(firefly_number)]\n",
    "        self.function = function\n",
    "        self.interval = interval\n",
    "        self.best = None\n",
    "        self.continuous = continuous\n",
    "        self.cost=[]\n",
    "        i=0\n",
    "        while i<(len(self.fireflies)): #Change to while\n",
    "            (self.fireflies)[i].update_intensity(self.function)\n",
    "            i+=1\n",
    "\n",
    "    def run(self):\n",
    "        y = np.linspace(self.lower_boundary, self.upper_boundary, 100)\n",
    "        x = np.linspace(self.lower_boundary, self.upper_boundary, 100)\n",
    "        X, Y = np.meshgrid(x, y)\n",
    "        z = self.function([X, Y])        \n",
    "        fig = plt.figure()\n",
    "        ax = fig.add_subplot(1, 1, 1)\n",
    "        cs = ax.contourf(X, Y, z, cmap=cm.PuBu_r)  # pylint: disable=no-member\n",
    "        fig.colorbar(cs)\n",
    "        x_init = []\n",
    "        y_init = []\n",
    "        i=0\n",
    "        while i<(len(self.fireflies)):#change to while\n",
    "            x_init.append((self.fireflies)[i].position[0])\n",
    "            y_init.append((self.fireflies)[i].position[1])\n",
    "            i+=1\n",
    "        particles, = ax.plot(x_init, y_init, 'ro', ms=6)\n",
    "        rectangle = plt.Rectangle([self.lower_boundary, self.lower_boundary],self.upper_boundary-self.lower_boundary,self.upper_boundary-self.lower_boundary, ec='none', lw=2, fc='none')\n",
    "        ax.add_patch(rectangle)\n",
    "#         self.plot()\n",
    "\n",
    "        def init():\n",
    "            particles.set_data([], [])\n",
    "            rectangle.set_edgecolor('none')\n",
    "            return particles, rectangle\n",
    "\n",
    "        def animate(i): #Generate animation and visualization\n",
    "            x = []\n",
    "            y = []\n",
    "            ms = int(50. * fig.get_figwidth()/fig.dpi)\n",
    "            rectangle.set_edgecolor('k')\n",
    "            fig.canvas.set_window_title('Iteration %s/%s' % (i, self.iteration_number))\n",
    "            if i ==0:\n",
    "                print(\"reset the fireflies\")\n",
    "                self.best = None\n",
    "\n",
    "            for idx, firefly in enumerate(self.fireflies):\n",
    "                if i == 0:\n",
    "                    firefly.__position = np.array([x_init[idx], y_init[idx]])\n",
    "                    firefly.update_intensity(self.function)\n",
    "                    fig.canvas.set_window_title('Initialization')\n",
    "                x.append(firefly.position[0])\n",
    "                y.append(firefly.position[1])\n",
    "            self.step()\n",
    "            particles.set_data(x, y)\n",
    "            particles.set_markersize(ms)\n",
    "            return particles, rectangle        \n",
    "        graph = animation.FuncAnimation(fig, animate, frames=self.iteration_number+1, interval=self.interval, blit=True, init_func=init, repeat=self.continuous)\n",
    "        plt.show()\n",
    "        if (not self.best or self.fireflies[0].intensity > self.best):\n",
    "            self.best = self.fireflies[0].intensity\n",
    "        if(self.function==michalewicz):\n",
    "            graph.save('firefly_michalewicz.gif')   \n",
    "        elif(self.function==ackley):\n",
    "            graph.save('firefly_ackley.gif')\n",
    "    def step(self):\n",
    "        (self.fireflies).sort(key=operator.attrgetter('intensity'), reverse=True)\n",
    "        for i in self.fireflies:\n",
    "            for j in self.fireflies:\n",
    "                if j.intensity > i.intensity:\n",
    "                    i.move_towards(j.position)\n",
    "                    i.update_intensity(self.function)\n",
    "     \n",
    "        if (not self.best or (self.fireflies[0].intensity > self.best) ):\n",
    "            self.best = self.fireflies[0].intensity\n",
    "        if(self.function==michalewicz):\n",
    "            gmin = -1.8013\n",
    "            self.cost.append(abs(self.best - abs(gmin))/abs(gmin))\n",
    "            print(\"Overall best intensity: {}, Overall best Accuracy: {}\".format(self.best,100*abs(1-abs(self.best - gmin)/abs(gmin))))             \n",
    "        elif(self.function==ackley):\n",
    "            gmin = 0\n",
    "            self.cost.append(abs(self.best - gmin))\n",
    "            print(\"Overall best intensity: {}, Overall best Accuracy: {}\".format(self.best,100*abs(1-abs(self.best - gmin))))\n",
    "       \n",
    "        (self.fireflies)[0].random_walk(0.1)\n",
    "        (self.fireflies)[0].update_intensity(self.function)\n",
    "    \n",
    "    def plot(self):\n",
    "        X_Axis=range(1,self.iteration_number+2)\n",
    "        plt.plot(X_Axis,self.cost)\n",
    "        plt.xlabel('No. of iterations')\n",
    "        plt.ylabel('Cost')\n",
    "        plt.show()\n",
    "        "
   ]
  },
  {
   "cell_type": "code",
   "execution_count": 7,
   "metadata": {
    "execution": {
     "iopub.execute_input": "2021-03-23T06:45:29.536562Z",
     "iopub.status.busy": "2021-03-23T06:45:29.535859Z",
     "iopub.status.idle": "2021-03-23T06:45:29.538639Z",
     "shell.execute_reply": "2021-03-23T06:45:29.538121Z"
    },
    "papermill": {
     "duration": 0.018387,
     "end_time": "2021-03-23T06:45:29.538785",
     "exception": false,
     "start_time": "2021-03-23T06:45:29.520398",
     "status": "completed"
    },
    "tags": []
   },
   "outputs": [],
   "source": [
    "def run_firefly_algorithm(optimizer,fireflies_number = 40,upper_boundary=5.12, lower_boundary=-5.12, alpha=2, beta=2, gamma=0.97, iteration_number=10, interval=500):\n",
    "    out = FireflyProblem(optimizer, fireflies_number,upper_boundary, lower_boundary, alpha, beta, gamma, iteration_number, interval)\n",
    "    out.run()\n",
    "    out.plot()"
   ]
  },
  {
   "cell_type": "code",
   "execution_count": 8,
   "metadata": {
    "execution": {
     "iopub.execute_input": "2021-03-23T06:45:29.565362Z",
     "iopub.status.busy": "2021-03-23T06:45:29.564701Z",
     "iopub.status.idle": "2021-03-23T06:46:00.025442Z",
     "shell.execute_reply": "2021-03-23T06:46:00.026078Z"
    },
    "papermill": {
     "duration": 30.477577,
     "end_time": "2021-03-23T06:46:00.026284",
     "exception": false,
     "start_time": "2021-03-23T06:45:29.548707",
     "status": "completed"
    },
    "tags": []
   },
   "outputs": [
    {
     "data": {
      "image/png": "[encoded data removed]",
      "text/plain": [
       "<Figure size 432x288 with 2 Axes>"
      ]
     },
     "metadata": {
      "needs_background": "light"
     },
     "output_type": "display_data"
    },
    {
     "name": "stdout",
     "output_type": "stream",
     "text": [
      "reset the fireflies\n",
      "Overall best intensity: -10.365427530389642, Overall best Accuracy: 936.5427530389642\n",
      "Overall best intensity: -10.156018532790126, Overall best Accuracy: 915.6018532790126\n",
      "Overall best intensity: -9.713854699733337, Overall best Accuracy: 871.3854699733338\n",
      "Overall best intensity: -9.713854699733337, Overall best Accuracy: 871.3854699733338\n",
      "Overall best intensity: -9.713854699733337, Overall best Accuracy: 871.3854699733338\n",
      "Overall best intensity: -9.713854699733337, Overall best Accuracy: 871.3854699733338\n",
      "Overall best intensity: -9.713854699733337, Overall best Accuracy: 871.3854699733338\n",
      "Overall best intensity: -6.665619934673124, Overall best Accuracy: 566.5619934673124\n",
      "Overall best intensity: -6.665619934673124, Overall best Accuracy: 566.5619934673124\n",
      "Overall best intensity: -4.081677173179205, Overall best Accuracy: 308.1677173179205\n",
      "Overall best intensity: -4.081677173179205, Overall best Accuracy: 308.1677173179205\n",
      "Overall best intensity: -3.930349994906639, Overall best Accuracy: 293.0349994906639\n",
      "Overall best intensity: -3.930349994906639, Overall best Accuracy: 293.0349994906639\n",
      "Overall best intensity: -3.2596383037066947, Overall best Accuracy: 225.96383037066948\n",
      "Overall best intensity: -2.8427641310240443, Overall best Accuracy: 184.27641310240443\n",
      "Overall best intensity: -2.071682084837097, Overall best Accuracy: 107.16820848370969\n",
      "Overall best intensity: -2.0109967222802045, Overall best Accuracy: 101.09967222802045\n",
      "Overall best intensity: -0.9158697084811291, Overall best Accuracy: 8.413029151887086\n",
      "Overall best intensity: -0.9158697084811291, Overall best Accuracy: 8.413029151887086\n",
      "Overall best intensity: -0.9158697084811291, Overall best Accuracy: 8.413029151887086\n",
      "Overall best intensity: -0.5488504086223185, Overall best Accuracy: 45.11495913776815\n",
      "Overall best intensity: -0.41962066944394083, Overall best Accuracy: 58.03793305560592\n",
      "Overall best intensity: -0.41962066944394083, Overall best Accuracy: 58.03793305560592\n",
      "Overall best intensity: -0.13259578803800354, Overall best Accuracy: 86.74042119619965\n",
      "Overall best intensity: -0.13259578803800354, Overall best Accuracy: 86.74042119619965\n",
      "Overall best intensity: -0.13259578803800354, Overall best Accuracy: 86.74042119619965\n",
      "Overall best intensity: -0.13259578803800354, Overall best Accuracy: 86.74042119619965\n",
      "Overall best intensity: -0.13259578803800354, Overall best Accuracy: 86.74042119619965\n",
      "Overall best intensity: -0.13259578803800354, Overall best Accuracy: 86.74042119619965\n",
      "Overall best intensity: -0.13259578803800354, Overall best Accuracy: 86.74042119619965\n",
      "Overall best intensity: -0.13259578803800354, Overall best Accuracy: 86.74042119619965\n",
      "Overall best intensity: -0.13259578803800354, Overall best Accuracy: 86.74042119619965\n",
      "Overall best intensity: -0.13259578803800354, Overall best Accuracy: 86.74042119619965\n",
      "Overall best intensity: -0.13259578803800354, Overall best Accuracy: 86.74042119619965\n",
      "Overall best intensity: -0.13259578803800354, Overall best Accuracy: 86.74042119619965\n",
      "Overall best intensity: -0.13259578803800354, Overall best Accuracy: 86.74042119619965\n",
      "Overall best intensity: -0.13259578803800354, Overall best Accuracy: 86.74042119619965\n",
      "Overall best intensity: -0.13259578803800354, Overall best Accuracy: 86.74042119619965\n",
      "Overall best intensity: -0.13259578803800354, Overall best Accuracy: 86.74042119619965\n",
      "Overall best intensity: -0.13259578803800354, Overall best Accuracy: 86.74042119619965\n",
      "Overall best intensity: -0.13259578803800354, Overall best Accuracy: 86.74042119619965\n",
      "Overall best intensity: -0.13259578803800354, Overall best Accuracy: 86.74042119619965\n",
      "Overall best intensity: -0.07306146507427203, Overall best Accuracy: 92.6938534925728\n",
      "Overall best intensity: -0.0129763675974357, Overall best Accuracy: 98.70236324025643\n",
      "Overall best intensity: -0.0129763675974357, Overall best Accuracy: 98.70236324025643\n",
      "Overall best intensity: -0.0129763675974357, Overall best Accuracy: 98.70236324025643\n",
      "Overall best intensity: -0.0129763675974357, Overall best Accuracy: 98.70236324025643\n",
      "Overall best intensity: -0.0129763675974357, Overall best Accuracy: 98.70236324025643\n",
      "Overall best intensity: -0.0129763675974357, Overall best Accuracy: 98.70236324025643\n",
      "Overall best intensity: -0.0129763675974357, Overall best Accuracy: 98.70236324025643\n",
      "Overall best intensity: -0.0129763675974357, Overall best Accuracy: 98.70236324025643\n",
      "Overall best intensity: -0.0129763675974357, Overall best Accuracy: 98.70236324025643\n",
      "Overall best intensity: -0.0129763675974357, Overall best Accuracy: 98.70236324025643\n",
      "Overall best intensity: -0.0129763675974357, Overall best Accuracy: 98.70236324025643\n",
      "Overall best intensity: -0.0129763675974357, Overall best Accuracy: 98.70236324025643\n",
      "Overall best intensity: -0.0129763675974357, Overall best Accuracy: 98.70236324025643\n",
      "Overall best intensity: -0.0129763675974357, Overall best Accuracy: 98.70236324025643\n",
      "Overall best intensity: -0.0129763675974357, Overall best Accuracy: 98.70236324025643\n",
      "Overall best intensity: -0.0129763675974357, Overall best Accuracy: 98.70236324025643\n",
      "Overall best intensity: -0.0129763675974357, Overall best Accuracy: 98.70236324025643\n",
      "Overall best intensity: -0.0129763675974357, Overall best Accuracy: 98.70236324025643\n",
      "Overall best intensity: -0.0129763675974357, Overall best Accuracy: 98.70236324025643\n",
      "Overall best intensity: -0.0129763675974357, Overall best Accuracy: 98.70236324025643\n",
      "Overall best intensity: -0.0129763675974357, Overall best Accuracy: 98.70236324025643\n",
      "Overall best intensity: -0.0129763675974357, Overall best Accuracy: 98.70236324025643\n",
      "Overall best intensity: -0.0129763675974357, Overall best Accuracy: 98.70236324025643\n",
      "Overall best intensity: -0.0129763675974357, Overall best Accuracy: 98.70236324025643\n",
      "Overall best intensity: -0.0129763675974357, Overall best Accuracy: 98.70236324025643\n",
      "Overall best intensity: -0.0129763675974357, Overall best Accuracy: 98.70236324025643\n",
      "Overall best intensity: -0.0129763675974357, Overall best Accuracy: 98.70236324025643\n",
      "Overall best intensity: -0.0129763675974357, Overall best Accuracy: 98.70236324025643\n",
      "Overall best intensity: -0.0129763675974357, Overall best Accuracy: 98.70236324025643\n",
      "Overall best intensity: -0.0129763675974357, Overall best Accuracy: 98.70236324025643\n",
      "Overall best intensity: -0.0129763675974357, Overall best Accuracy: 98.70236324025643\n",
      "Overall best intensity: -0.0129763675974357, Overall best Accuracy: 98.70236324025643\n",
      "Overall best intensity: -0.0129763675974357, Overall best Accuracy: 98.70236324025643\n",
      "Overall best intensity: -0.0129763675974357, Overall best Accuracy: 98.70236324025643\n",
      "Overall best intensity: -0.0129763675974357, Overall best Accuracy: 98.70236324025643\n",
      "Overall best intensity: -0.0129763675974357, Overall best Accuracy: 98.70236324025643\n",
      "Overall best intensity: -0.0129763675974357, Overall best Accuracy: 98.70236324025643\n",
      "Overall best intensity: -0.0129763675974357, Overall best Accuracy: 98.70236324025643\n",
      "Overall best intensity: -0.0129763675974357, Overall best Accuracy: 98.70236324025643\n",
      "Overall best intensity: -0.0129763675974357, Overall best Accuracy: 98.70236324025643\n",
      "Overall best intensity: -0.0129763675974357, Overall best Accuracy: 98.70236324025643\n",
      "Overall best intensity: -0.0129763675974357, Overall best Accuracy: 98.70236324025643\n",
      "Overall best intensity: -0.0129763675974357, Overall best Accuracy: 98.70236324025643\n",
      "Overall best intensity: -0.0129763675974357, Overall best Accuracy: 98.70236324025643\n",
      "Overall best intensity: -0.0129763675974357, Overall best Accuracy: 98.70236324025643\n",
      "Overall best intensity: -0.0129763675974357, Overall best Accuracy: 98.70236324025643\n",
      "Overall best intensity: -0.0129763675974357, Overall best Accuracy: 98.70236324025643\n",
      "Overall best intensity: -0.0129763675974357, Overall best Accuracy: 98.70236324025643\n",
      "Overall best intensity: -0.0129763675974357, Overall best Accuracy: 98.70236324025643\n",
      "Overall best intensity: -0.0129763675974357, Overall best Accuracy: 98.70236324025643\n",
      "Overall best intensity: -0.0129763675974357, Overall best Accuracy: 98.70236324025643\n",
      "Overall best intensity: -0.0129763675974357, Overall best Accuracy: 98.70236324025643\n",
      "Overall best intensity: -0.0129763675974357, Overall best Accuracy: 98.70236324025643\n",
      "Overall best intensity: -0.0129763675974357, Overall best Accuracy: 98.70236324025643\n",
      "Overall best intensity: -0.0129763675974357, Overall best Accuracy: 98.70236324025643\n",
      "Overall best intensity: -0.0129763675974357, Overall best Accuracy: 98.70236324025643\n",
      "Overall best intensity: -0.0129763675974357, Overall best Accuracy: 98.70236324025643\n",
      "Overall best intensity: -0.0129763675974357, Overall best Accuracy: 98.70236324025643\n",
      "Overall best intensity: -0.0129763675974357, Overall best Accuracy: 98.70236324025643\n",
      "Overall best intensity: -0.0129763675974357, Overall best Accuracy: 98.70236324025643\n",
      "Overall best intensity: -0.0129763675974357, Overall best Accuracy: 98.70236324025643\n",
      "Overall best intensity: -0.0129763675974357, Overall best Accuracy: 98.70236324025643\n",
      "Overall best intensity: -0.0129763675974357, Overall best Accuracy: 98.70236324025643\n",
      "Overall best intensity: -0.0129763675974357, Overall best Accuracy: 98.70236324025643\n",
      "Overall best intensity: -0.0129763675974357, Overall best Accuracy: 98.70236324025643\n",
      "Overall best intensity: -0.0129763675974357, Overall best Accuracy: 98.70236324025643\n",
      "Overall best intensity: -0.0129763675974357, Overall best Accuracy: 98.70236324025643\n",
      "Overall best intensity: -0.0129763675974357, Overall best Accuracy: 98.70236324025643\n",
      "Overall best intensity: -0.0129763675974357, Overall best Accuracy: 98.70236324025643\n",
      "Overall best intensity: -0.0129763675974357, Overall best Accuracy: 98.70236324025643\n",
      "Overall best intensity: -0.0129763675974357, Overall best Accuracy: 98.70236324025643\n",
      "Overall best intensity: -0.0129763675974357, Overall best Accuracy: 98.70236324025643\n",
      "Overall best intensity: -0.0129763675974357, Overall best Accuracy: 98.70236324025643\n",
      "Overall best intensity: -0.0129763675974357, Overall best Accuracy: 98.70236324025643\n",
      "Overall best intensity: -0.0129763675974357, Overall best Accuracy: 98.70236324025643\n",
      "Overall best intensity: -0.0129763675974357, Overall best Accuracy: 98.70236324025643\n",
      "Overall best intensity: -0.0129763675974357, Overall best Accuracy: 98.70236324025643\n",
      "Overall best intensity: -0.0129763675974357, Overall best Accuracy: 98.70236324025643\n",
      "Overall best intensity: -0.0129763675974357, Overall best Accuracy: 98.70236324025643\n",
      "Overall best intensity: -0.0129763675974357, Overall best Accuracy: 98.70236324025643\n",
      "Overall best intensity: -0.0129763675974357, Overall best Accuracy: 98.70236324025643\n",
      "Overall best intensity: -0.0129763675974357, Overall best Accuracy: 98.70236324025643\n",
      "Overall best intensity: -0.0129763675974357, Overall best Accuracy: 98.70236324025643\n",
      "Overall best intensity: -0.0129763675974357, Overall best Accuracy: 98.70236324025643\n",
      "Overall best intensity: -0.0129763675974357, Overall best Accuracy: 98.70236324025643\n",
      "Overall best intensity: -0.0129763675974357, Overall best Accuracy: 98.70236324025643\n",
      "Overall best intensity: -0.0129763675974357, Overall best Accuracy: 98.70236324025643\n",
      "Overall best intensity: -0.0129763675974357, Overall best Accuracy: 98.70236324025643\n",
      "Overall best intensity: -0.0129763675974357, Overall best Accuracy: 98.70236324025643\n",
      "Overall best intensity: -0.0129763675974357, Overall best Accuracy: 98.70236324025643\n",
      "Overall best intensity: -0.0129763675974357, Overall best Accuracy: 98.70236324025643\n",
      "Overall best intensity: -0.0129763675974357, Overall best Accuracy: 98.70236324025643\n",
      "Overall best intensity: -0.0129763675974357, Overall best Accuracy: 98.70236324025643\n",
      "Overall best intensity: -0.0129763675974357, Overall best Accuracy: 98.70236324025643\n",
      "Overall best intensity: -0.0129763675974357, Overall best Accuracy: 98.70236324025643\n",
      "Overall best intensity: -0.0129763675974357, Overall best Accuracy: 98.70236324025643\n",
      "Overall best intensity: -0.0129763675974357, Overall best Accuracy: 98.70236324025643\n",
      "Overall best intensity: -0.0129763675974357, Overall best Accuracy: 98.70236324025643\n",
      "Overall best intensity: -0.0129763675974357, Overall best Accuracy: 98.70236324025643\n",
      "Overall best intensity: -0.0129763675974357, Overall best Accuracy: 98.70236324025643\n",
      "Overall best intensity: -0.0129763675974357, Overall best Accuracy: 98.70236324025643\n",
      "Overall best intensity: -0.0129763675974357, Overall best Accuracy: 98.70236324025643\n",
      "Overall best intensity: -0.0129763675974357, Overall best Accuracy: 98.70236324025643\n",
      "Overall best intensity: -0.0129763675974357, Overall best Accuracy: 98.70236324025643\n",
      "Overall best intensity: -0.0129763675974357, Overall best Accuracy: 98.70236324025643\n",
      "Overall best intensity: -0.0129763675974357, Overall best Accuracy: 98.70236324025643\n",
      "Overall best intensity: -0.0129763675974357, Overall best Accuracy: 98.70236324025643\n",
      "Overall best intensity: -0.0129763675974357, Overall best Accuracy: 98.70236324025643\n",
      "Overall best intensity: -0.0129763675974357, Overall best Accuracy: 98.70236324025643\n",
      "Overall best intensity: -0.0129763675974357, Overall best Accuracy: 98.70236324025643\n",
      "Overall best intensity: -0.0129763675974357, Overall best Accuracy: 98.70236324025643\n",
      "Overall best intensity: -0.0129763675974357, Overall best Accuracy: 98.70236324025643\n",
      "Overall best intensity: -0.0129763675974357, Overall best Accuracy: 98.70236324025643\n",
      "Overall best intensity: -0.0129763675974357, Overall best Accuracy: 98.70236324025643\n",
      "Overall best intensity: -0.0129763675974357, Overall best Accuracy: 98.70236324025643\n",
      "Overall best intensity: -0.0129763675974357, Overall best Accuracy: 98.70236324025643\n",
      "Overall best intensity: -0.0129763675974357, Overall best Accuracy: 98.70236324025643\n",
      "Overall best intensity: -0.0129763675974357, Overall best Accuracy: 98.70236324025643\n",
      "Overall best intensity: -0.0129763675974357, Overall best Accuracy: 98.70236324025643\n",
      "Overall best intensity: -0.0129763675974357, Overall best Accuracy: 98.70236324025643\n",
      "Overall best intensity: -0.0129763675974357, Overall best Accuracy: 98.70236324025643\n",
      "Overall best intensity: -0.0129763675974357, Overall best Accuracy: 98.70236324025643\n",
      "Overall best intensity: -0.0129763675974357, Overall best Accuracy: 98.70236324025643\n",
      "Overall best intensity: -0.0129763675974357, Overall best Accuracy: 98.70236324025643\n",
      "Overall best intensity: -0.0129763675974357, Overall best Accuracy: 98.70236324025643\n",
      "Overall best intensity: -0.0129763675974357, Overall best Accuracy: 98.70236324025643\n",
      "Overall best intensity: -0.0129763675974357, Overall best Accuracy: 98.70236324025643\n",
      "Overall best intensity: -0.0129763675974357, Overall best Accuracy: 98.70236324025643\n",
      "Overall best intensity: -0.0129763675974357, Overall best Accuracy: 98.70236324025643\n",
      "Overall best intensity: -0.0129763675974357, Overall best Accuracy: 98.70236324025643\n",
      "Overall best intensity: -0.0129763675974357, Overall best Accuracy: 98.70236324025643\n",
      "Overall best intensity: -0.0129763675974357, Overall best Accuracy: 98.70236324025643\n",
      "Overall best intensity: -0.0129763675974357, Overall best Accuracy: 98.70236324025643\n",
      "Overall best intensity: -0.0129763675974357, Overall best Accuracy: 98.70236324025643\n",
      "Overall best intensity: -0.0129763675974357, Overall best Accuracy: 98.70236324025643\n",
      "Overall best intensity: -0.0129763675974357, Overall best Accuracy: 98.70236324025643\n",
      "Overall best intensity: -0.0129763675974357, Overall best Accuracy: 98.70236324025643\n",
      "Overall best intensity: -0.0129763675974357, Overall best Accuracy: 98.70236324025643\n",
      "Overall best intensity: -0.0129763675974357, Overall best Accuracy: 98.70236324025643\n",
      "Overall best intensity: -0.0129763675974357, Overall best Accuracy: 98.70236324025643\n",
      "Overall best intensity: -0.0129763675974357, Overall best Accuracy: 98.70236324025643\n",
      "Overall best intensity: -0.0129763675974357, Overall best Accuracy: 98.70236324025643\n",
      "Overall best intensity: -0.0129763675974357, Overall best Accuracy: 98.70236324025643\n",
      "Overall best intensity: -0.0129763675974357, Overall best Accuracy: 98.70236324025643\n",
      "Overall best intensity: -0.0129763675974357, Overall best Accuracy: 98.70236324025643\n",
      "Overall best intensity: -0.0129763675974357, Overall best Accuracy: 98.70236324025643\n",
      "Overall best intensity: -0.0129763675974357, Overall best Accuracy: 98.70236324025643\n",
      "Overall best intensity: -0.0129763675974357, Overall best Accuracy: 98.70236324025643\n",
      "Overall best intensity: -0.0129763675974357, Overall best Accuracy: 98.70236324025643\n",
      "Overall best intensity: -0.0129763675974357, Overall best Accuracy: 98.70236324025643\n",
      "Overall best intensity: -0.0129763675974357, Overall best Accuracy: 98.70236324025643\n",
      "Overall best intensity: -0.0129763675974357, Overall best Accuracy: 98.70236324025643\n",
      "Overall best intensity: -0.0129763675974357, Overall best Accuracy: 98.70236324025643\n",
      "Overall best intensity: -0.0129763675974357, Overall best Accuracy: 98.70236324025643\n",
      "Overall best intensity: -0.0129763675974357, Overall best Accuracy: 98.70236324025643\n",
      "Overall best intensity: -0.0129763675974357, Overall best Accuracy: 98.70236324025643\n",
      "Overall best intensity: -0.0129763675974357, Overall best Accuracy: 98.70236324025643\n",
      "Overall best intensity: -0.0129763675974357, Overall best Accuracy: 98.70236324025643\n"
     ]
    },
    {
     "data": {
      "image/png": "[encoded data removed]",
      "text/plain": [
       "<Figure size 432x288 with 1 Axes>"
      ]
     },
     "metadata": {
      "needs_background": "light"
     },
     "output_type": "display_data"
    }
   ],
   "source": [
    "run_firefly_algorithm(ackley,40,20,-20,1,5,0.5,200,50)"
   ]
  },
  {
   "cell_type": "code",
   "execution_count": 9,
   "metadata": {
    "execution": {
     "iopub.execute_input": "2021-03-23T06:46:00.121080Z",
     "iopub.status.busy": "2021-03-23T06:46:00.120005Z",
     "iopub.status.idle": "2021-03-23T06:46:22.671140Z",
     "shell.execute_reply": "2021-03-23T06:46:22.670470Z"
    },
    "papermill": {
     "duration": 22.603127,
     "end_time": "2021-03-23T06:46:22.671297",
     "exception": false,
     "start_time": "2021-03-23T06:46:00.068170",
     "status": "completed"
    },
    "tags": []
   },
   "outputs": [
    {
     "data": {
      "image/png": "[encoded data removed]",
      "text/plain": [
       "<Figure size 432x288 with 2 Axes>"
      ]
     },
     "metadata": {
      "needs_background": "light"
     },
     "output_type": "display_data"
    },
    {
     "name": "stdout",
     "output_type": "stream",
     "text": [
      "reset the fireflies\n",
      "Overall best intensity: 0.6689503935583927, Overall best Accuracy: 37.13708952192265\n",
      "Overall best intensity: 1.5548167212467527, Overall best Accuracy: 86.31636713744255\n",
      "Overall best intensity: 1.5795847205587643, Overall best Accuracy: 87.69137403868119\n",
      "Overall best intensity: 1.5795847205587643, Overall best Accuracy: 87.69137403868119\n",
      "Overall best intensity: 1.5934770457108274, Overall best Accuracy: 88.46261287463652\n",
      "Overall best intensity: 1.5934770457108274, Overall best Accuracy: 88.46261287463652\n",
      "Overall best intensity: 1.6014231502204566, Overall best Accuracy: 88.90374453008698\n",
      "Overall best intensity: 1.6014231502204566, Overall best Accuracy: 88.90374453008698\n",
      "Overall best intensity: 1.6014231502204566, Overall best Accuracy: 88.90374453008698\n",
      "Overall best intensity: 1.6014231502204566, Overall best Accuracy: 88.90374453008698\n",
      "Overall best intensity: 1.6014231502204566, Overall best Accuracy: 88.90374453008698\n",
      "Overall best intensity: 1.6014231502204566, Overall best Accuracy: 88.90374453008698\n",
      "Overall best intensity: 1.6015346934551111, Overall best Accuracy: 88.9099369041865\n",
      "Overall best intensity: 1.6015346934551111, Overall best Accuracy: 88.9099369041865\n",
      "Overall best intensity: 1.6015346934551111, Overall best Accuracy: 88.9099369041865\n",
      "Overall best intensity: 1.6015642640461534, Overall best Accuracy: 88.91157852918188\n",
      "Overall best intensity: 1.6015642640461534, Overall best Accuracy: 88.91157852918188\n",
      "Overall best intensity: 1.6015642640461534, Overall best Accuracy: 88.91157852918188\n",
      "Overall best intensity: 1.6015642640461534, Overall best Accuracy: 88.91157852918188\n",
      "Overall best intensity: 1.6015642640461534, Overall best Accuracy: 88.91157852918188\n",
      "Overall best intensity: 1.6015642640461534, Overall best Accuracy: 88.91157852918188\n",
      "Overall best intensity: 1.6015642640461534, Overall best Accuracy: 88.91157852918188\n",
      "Overall best intensity: 1.6015642640461534, Overall best Accuracy: 88.91157852918188\n",
      "Overall best intensity: 1.6015642640461534, Overall best Accuracy: 88.91157852918188\n",
      "Overall best intensity: 1.6015642640461534, Overall best Accuracy: 88.91157852918188\n",
      "Overall best intensity: 1.6021411817565967, Overall best Accuracy: 88.94360638186846\n",
      "Overall best intensity: 1.6021411817565967, Overall best Accuracy: 88.94360638186846\n",
      "Overall best intensity: 1.6021411817565967, Overall best Accuracy: 88.94360638186846\n",
      "Overall best intensity: 1.6021411817565967, Overall best Accuracy: 88.94360638186846\n",
      "Overall best intensity: 1.6021411817565967, Overall best Accuracy: 88.94360638186846\n",
      "Overall best intensity: 1.6021411817565967, Overall best Accuracy: 88.94360638186846\n",
      "Overall best intensity: 1.6021411817565967, Overall best Accuracy: 88.94360638186846\n",
      "Overall best intensity: 1.6021411817565967, Overall best Accuracy: 88.94360638186846\n",
      "Overall best intensity: 1.6021411817565967, Overall best Accuracy: 88.94360638186846\n",
      "Overall best intensity: 1.6021411817565967, Overall best Accuracy: 88.94360638186846\n",
      "Overall best intensity: 1.6021411817565967, Overall best Accuracy: 88.94360638186846\n",
      "Overall best intensity: 1.6021411817565967, Overall best Accuracy: 88.94360638186846\n",
      "Overall best intensity: 1.6021411817565967, Overall best Accuracy: 88.94360638186846\n",
      "Overall best intensity: 1.6021411817565967, Overall best Accuracy: 88.94360638186846\n",
      "Overall best intensity: 1.6021411817565967, Overall best Accuracy: 88.94360638186846\n",
      "Overall best intensity: 1.6021411817565967, Overall best Accuracy: 88.94360638186846\n",
      "Overall best intensity: 1.6021411817565967, Overall best Accuracy: 88.94360638186846\n",
      "Overall best intensity: 1.6021411817565967, Overall best Accuracy: 88.94360638186846\n",
      "Overall best intensity: 1.6021411817565967, Overall best Accuracy: 88.94360638186846\n",
      "Overall best intensity: 1.6021411817565967, Overall best Accuracy: 88.94360638186846\n",
      "Overall best intensity: 1.6021411817565967, Overall best Accuracy: 88.94360638186846\n",
      "Overall best intensity: 1.6021411817565967, Overall best Accuracy: 88.94360638186846\n",
      "Overall best intensity: 1.6021411817565967, Overall best Accuracy: 88.94360638186846\n",
      "Overall best intensity: 1.6021411817565967, Overall best Accuracy: 88.94360638186846\n",
      "Overall best intensity: 1.6021411817565967, Overall best Accuracy: 88.94360638186846\n",
      "Overall best intensity: 1.6021411817565967, Overall best Accuracy: 88.94360638186846\n",
      "Overall best intensity: 1.6021411817565967, Overall best Accuracy: 88.94360638186846\n",
      "Overall best intensity: 1.6021411817565967, Overall best Accuracy: 88.94360638186846\n",
      "Overall best intensity: 1.6021411817565967, Overall best Accuracy: 88.94360638186846\n",
      "Overall best intensity: 1.6021411817565967, Overall best Accuracy: 88.94360638186846\n",
      "Overall best intensity: 1.6021411817565967, Overall best Accuracy: 88.94360638186846\n",
      "Overall best intensity: 1.6021411817565967, Overall best Accuracy: 88.94360638186846\n",
      "Overall best intensity: 1.6021411817565967, Overall best Accuracy: 88.94360638186846\n",
      "Overall best intensity: 1.6021411817565967, Overall best Accuracy: 88.94360638186846\n",
      "Overall best intensity: 1.6021411817565967, Overall best Accuracy: 88.94360638186846\n",
      "Overall best intensity: 1.6021411817565967, Overall best Accuracy: 88.94360638186846\n",
      "Overall best intensity: 1.6021411817565967, Overall best Accuracy: 88.94360638186846\n",
      "Overall best intensity: 1.6021411817565967, Overall best Accuracy: 88.94360638186846\n",
      "Overall best intensity: 1.6021411817565967, Overall best Accuracy: 88.94360638186846\n",
      "Overall best intensity: 1.6021411817565967, Overall best Accuracy: 88.94360638186846\n",
      "Overall best intensity: 1.6021411817565967, Overall best Accuracy: 88.94360638186846\n",
      "Overall best intensity: 1.6021411817565967, Overall best Accuracy: 88.94360638186846\n",
      "Overall best intensity: 1.6021411817565967, Overall best Accuracy: 88.94360638186846\n",
      "Overall best intensity: 1.6021411817565967, Overall best Accuracy: 88.94360638186846\n",
      "Overall best intensity: 1.6021411817565967, Overall best Accuracy: 88.94360638186846\n",
      "Overall best intensity: 1.6021411817565967, Overall best Accuracy: 88.94360638186846\n",
      "Overall best intensity: 1.6021411817565967, Overall best Accuracy: 88.94360638186846\n",
      "Overall best intensity: 1.6021411817565967, Overall best Accuracy: 88.94360638186846\n",
      "Overall best intensity: 1.6021411817565967, Overall best Accuracy: 88.94360638186846\n",
      "Overall best intensity: 1.6021411817565967, Overall best Accuracy: 88.94360638186846\n",
      "Overall best intensity: 1.6021411817565967, Overall best Accuracy: 88.94360638186846\n",
      "Overall best intensity: 1.6021411817565967, Overall best Accuracy: 88.94360638186846\n",
      "Overall best intensity: 1.6021411817565967, Overall best Accuracy: 88.94360638186846\n",
      "Overall best intensity: 1.6021411817565967, Overall best Accuracy: 88.94360638186846\n",
      "Overall best intensity: 1.6021411817565967, Overall best Accuracy: 88.94360638186846\n",
      "Overall best intensity: 1.6021411817565967, Overall best Accuracy: 88.94360638186846\n",
      "Overall best intensity: 1.6021411817565967, Overall best Accuracy: 88.94360638186846\n",
      "Overall best intensity: 1.6021411817565967, Overall best Accuracy: 88.94360638186846\n",
      "Overall best intensity: 1.6021411817565967, Overall best Accuracy: 88.94360638186846\n",
      "Overall best intensity: 1.6021411817565967, Overall best Accuracy: 88.94360638186846\n",
      "Overall best intensity: 1.6021411817565967, Overall best Accuracy: 88.94360638186846\n",
      "Overall best intensity: 1.6021411817565967, Overall best Accuracy: 88.94360638186846\n",
      "Overall best intensity: 1.6021411817565967, Overall best Accuracy: 88.94360638186846\n",
      "Overall best intensity: 1.602355306356765, Overall best Accuracy: 88.95549360777022\n",
      "Overall best intensity: 1.602355306356765, Overall best Accuracy: 88.95549360777022\n",
      "Overall best intensity: 1.602355306356765, Overall best Accuracy: 88.95549360777022\n",
      "Overall best intensity: 1.602355306356765, Overall best Accuracy: 88.95549360777022\n",
      "Overall best intensity: 1.602355306356765, Overall best Accuracy: 88.95549360777022\n",
      "Overall best intensity: 1.602355306356765, Overall best Accuracy: 88.95549360777022\n",
      "Overall best intensity: 1.602355306356765, Overall best Accuracy: 88.95549360777022\n",
      "Overall best intensity: 1.602355306356765, Overall best Accuracy: 88.95549360777022\n",
      "Overall best intensity: 1.602355306356765, Overall best Accuracy: 88.95549360777022\n",
      "Overall best intensity: 1.602355306356765, Overall best Accuracy: 88.95549360777022\n",
      "Overall best intensity: 1.602355306356765, Overall best Accuracy: 88.95549360777022\n",
      "Overall best intensity: 1.602355306356765, Overall best Accuracy: 88.95549360777022\n",
      "Overall best intensity: 1.602355306356765, Overall best Accuracy: 88.95549360777022\n",
      "Overall best intensity: 1.602355306356765, Overall best Accuracy: 88.95549360777022\n",
      "Overall best intensity: 1.602355306356765, Overall best Accuracy: 88.95549360777022\n",
      "Overall best intensity: 1.602355306356765, Overall best Accuracy: 88.95549360777022\n",
      "Overall best intensity: 1.602355306356765, Overall best Accuracy: 88.95549360777022\n",
      "Overall best intensity: 1.602355306356765, Overall best Accuracy: 88.95549360777022\n",
      "Overall best intensity: 1.602355306356765, Overall best Accuracy: 88.95549360777022\n",
      "Overall best intensity: 1.602355306356765, Overall best Accuracy: 88.95549360777022\n",
      "Overall best intensity: 1.602355306356765, Overall best Accuracy: 88.95549360777022\n",
      "Overall best intensity: 1.602355306356765, Overall best Accuracy: 88.95549360777022\n",
      "Overall best intensity: 1.602355306356765, Overall best Accuracy: 88.95549360777022\n",
      "Overall best intensity: 1.602355306356765, Overall best Accuracy: 88.95549360777022\n",
      "Overall best intensity: 1.602355306356765, Overall best Accuracy: 88.95549360777022\n",
      "Overall best intensity: 1.602355306356765, Overall best Accuracy: 88.95549360777022\n",
      "Overall best intensity: 1.602355306356765, Overall best Accuracy: 88.95549360777022\n",
      "Overall best intensity: 1.602355306356765, Overall best Accuracy: 88.95549360777022\n",
      "Overall best intensity: 1.602355306356765, Overall best Accuracy: 88.95549360777022\n",
      "Overall best intensity: 1.602355306356765, Overall best Accuracy: 88.95549360777022\n",
      "Overall best intensity: 1.602355306356765, Overall best Accuracy: 88.95549360777022\n",
      "Overall best intensity: 1.602355306356765, Overall best Accuracy: 88.95549360777022\n",
      "Overall best intensity: 1.602355306356765, Overall best Accuracy: 88.95549360777022\n",
      "Overall best intensity: 1.602355306356765, Overall best Accuracy: 88.95549360777022\n",
      "Overall best intensity: 1.602355306356765, Overall best Accuracy: 88.95549360777022\n",
      "Overall best intensity: 1.602355306356765, Overall best Accuracy: 88.95549360777022\n",
      "Overall best intensity: 1.602355306356765, Overall best Accuracy: 88.95549360777022\n",
      "Overall best intensity: 1.602355306356765, Overall best Accuracy: 88.95549360777022\n",
      "Overall best intensity: 1.602355306356765, Overall best Accuracy: 88.95549360777022\n",
      "Overall best intensity: 1.602355306356765, Overall best Accuracy: 88.95549360777022\n",
      "Overall best intensity: 1.602355306356765, Overall best Accuracy: 88.95549360777022\n",
      "Overall best intensity: 1.602355306356765, Overall best Accuracy: 88.95549360777022\n",
      "Overall best intensity: 1.602355306356765, Overall best Accuracy: 88.95549360777022\n",
      "Overall best intensity: 1.602355306356765, Overall best Accuracy: 88.95549360777022\n",
      "Overall best intensity: 1.602355306356765, Overall best Accuracy: 88.95549360777022\n",
      "Overall best intensity: 1.602355306356765, Overall best Accuracy: 88.95549360777022\n",
      "Overall best intensity: 1.602355306356765, Overall best Accuracy: 88.95549360777022\n",
      "Overall best intensity: 1.602355306356765, Overall best Accuracy: 88.95549360777022\n",
      "Overall best intensity: 1.602355306356765, Overall best Accuracy: 88.95549360777022\n",
      "Overall best intensity: 1.602355306356765, Overall best Accuracy: 88.95549360777022\n",
      "Overall best intensity: 1.6025730463107126, Overall best Accuracy: 88.96758154170392\n",
      "Overall best intensity: 1.6025730463107126, Overall best Accuracy: 88.96758154170392\n",
      "Overall best intensity: 1.6025730463107126, Overall best Accuracy: 88.96758154170392\n",
      "Overall best intensity: 1.6025730463107126, Overall best Accuracy: 88.96758154170392\n",
      "Overall best intensity: 1.6025730463107126, Overall best Accuracy: 88.96758154170392\n",
      "Overall best intensity: 1.6025730463107126, Overall best Accuracy: 88.96758154170392\n",
      "Overall best intensity: 1.6025730463107126, Overall best Accuracy: 88.96758154170392\n",
      "Overall best intensity: 1.6025730463107126, Overall best Accuracy: 88.96758154170392\n",
      "Overall best intensity: 1.6025730463107126, Overall best Accuracy: 88.96758154170392\n",
      "Overall best intensity: 1.6025730463107126, Overall best Accuracy: 88.96758154170392\n",
      "Overall best intensity: 1.6025730463107126, Overall best Accuracy: 88.96758154170392\n",
      "Overall best intensity: 1.6025730463107126, Overall best Accuracy: 88.96758154170392\n",
      "Overall best intensity: 1.6025730463107126, Overall best Accuracy: 88.96758154170392\n"
     ]
    },
    {
     "data": {
      "image/png": "[encoded data removed]",
      "text/plain": [
       "<Figure size 432x288 with 1 Axes>"
      ]
     },
     "metadata": {
      "needs_background": "light"
     },
     "output_type": "display_data"
    }
   ],
   "source": [
    "run_firefly_algorithm(michalewicz,40,4,0,1,5,0.5,150,100)"
   ]
  },
  {
   "cell_type": "code",
   "execution_count": 10,
   "metadata": {
    "execution": {
     "iopub.execute_input": "2021-03-23T06:46:22.810427Z",
     "iopub.status.busy": "2021-03-23T06:46:22.809654Z",
     "iopub.status.idle": "2021-03-23T06:46:23.572781Z",
     "shell.execute_reply": "2021-03-23T06:46:23.571722Z"
    },
    "papermill": {
     "duration": 0.835556,
     "end_time": "2021-03-23T06:46:23.572953",
     "exception": false,
     "start_time": "2021-03-23T06:46:22.737397",
     "status": "completed"
    },
    "tags": []
   },
   "outputs": [
    {
     "name": "stdout",
     "output_type": "stream",
     "text": [
      "<class 'pandas.core.frame.DataFrame'>\n",
      "RangeIndex: 39537 entries, 0 to 39536\n",
      "Data columns (total 27 columns):\n",
      " #   Column                 Non-Null Count  Dtype  \n",
      "---  ------                 --------------  -----  \n",
      " 0   Unnamed: 0             39537 non-null  int64  \n",
      " 1   ageEstimate            39537 non-null  float64\n",
      " 2   companyFollowerCount   38071 non-null  float64\n",
      " 3   companyHasLogo         36407 non-null  object \n",
      " 4   companyName            39535 non-null  object \n",
      " 5   companyStaffCount      38401 non-null  float64\n",
      " 6   companyUrl             37449 non-null  object \n",
      " 7   companyUrn             39537 non-null  object \n",
      " 8   connectionsCount       39537 non-null  float64\n",
      " 9   country                39537 non-null  object \n",
      " 10  endDate                30626 non-null  object \n",
      " 11  followable             39537 non-null  float64\n",
      " 12  followersCount         39537 non-null  float64\n",
      " 13  genderEstimate         35567 non-null  object \n",
      " 14  hasPicture             29601 non-null  object \n",
      " 15  isPremium              39537 non-null  float64\n",
      " 16  mbrLocation            39537 non-null  object \n",
      " 17  mbrLocationCode        39389 non-null  object \n",
      " 18  mbrTitle               39537 non-null  object \n",
      " 19  memberUrn              39537 non-null  object \n",
      " 20  posLocation            28411 non-null  object \n",
      " 21  posLocationCode        16967 non-null  object \n",
      " 22  posTitle               39537 non-null  object \n",
      " 23  positionId             39537 non-null  float64\n",
      " 24  startDate              39521 non-null  object \n",
      " 25  avgMemberPosDuration   39312 non-null  float64\n",
      " 26  avgCompanyPosDuration  38686 non-null  float64\n",
      "dtypes: float64(10), int64(1), object(16)\n",
      "memory usage: 8.1+ MB\n"
     ]
    }
   ],
   "source": [
    "dataset = pd.read_csv('../input/profile-data/dump.csv',encoding='latin-1')\n",
    "dataset.info()"
   ]
  },
  {
   "cell_type": "code",
   "execution_count": 11,
   "metadata": {
    "execution": {
     "iopub.execute_input": "2021-03-23T06:46:23.720653Z",
     "iopub.status.busy": "2021-03-23T06:46:23.719815Z",
     "iopub.status.idle": "2021-03-23T06:46:23.856275Z",
     "shell.execute_reply": "2021-03-23T06:46:23.855655Z"
    },
    "papermill": {
     "duration": 0.216652,
     "end_time": "2021-03-23T06:46:23.856445",
     "exception": false,
     "start_time": "2021-03-23T06:46:23.639793",
     "status": "completed"
    },
    "tags": []
   },
   "outputs": [
    {
     "data": {
      "image/png": "[encoded data removed]",
      "text/plain": [
       "<Figure size 432x288 with 1 Axes>"
      ]
     },
     "metadata": {},
     "output_type": "display_data"
    }
   ],
   "source": [
    "count_Class=pd.value_counts(dataset['genderEstimate'], sort= True)\n",
    "count_Class.plot(kind = 'pie',  autopct='%1.0f%%')\n",
    "plt.title('Pie chart')\n",
    "plt.ylabel('')\n",
    "plt.show()"
   ]
  },
  {
   "cell_type": "code",
   "execution_count": null,
   "metadata": {
    "papermill": {
     "duration": 0.066644,
     "end_time": "2021-03-23T06:46:23.992605",
     "exception": false,
     "start_time": "2021-03-23T06:46:23.925961",
     "status": "completed"
    },
    "tags": []
   },
   "outputs": [],
   "source": []
  }
 ],
 "metadata": {
  "kernelspec": {
   "display_name": "Python 3",
   "language": "python",
   "name": "python3"
  },
  "language_info": {
   "codemirror_mode": {
    "name": "ipython",
    "version": 3
   },
   "file_extension": ".py",
   "mimetype": "text/x-python",
   "name": "python",
   "nbconvert_exporter": "python",
   "pygments_lexer": "ipython3",
   "version": "3.7.9"
  },
  "papermill": {
   "default_parameters": {},
   "duration": 61.36528,
   "end_time": "2021-03-23T06:46:24.672591",
   "environment_variables": {},
   "exception": null,
   "input_path": "__notebook__.ipynb",
   "output_path": "__notebook__.ipynb",
   "parameters": {},
   "start_time": "2021-03-23T06:45:23.307311",
   "version": "2.2.2"
  }
 },
 "nbformat": 4,
 "nbformat_minor": 4
}
